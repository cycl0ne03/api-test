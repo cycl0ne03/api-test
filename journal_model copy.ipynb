{
 "cells": [
  {
   "cell_type": "code",
   "execution_count": 1,
   "metadata": {},
   "outputs": [],
   "source": [
    "import pandas as pd\n",
    "jurnal = pd.read_csv(r\"C:\\Users\\Fauzan Anshori\\Downloads\\Jurnal ML\\datajurnal2.csv\",sep=\";\")"
   ]
  },
  {
   "cell_type": "code",
   "execution_count": 2,
   "metadata": {},
   "outputs": [
    {
     "name": "stdout",
     "output_type": "stream",
     "text": [
      "Completed\n"
     ]
    },
    {
     "name": "stderr",
     "output_type": "stream",
     "text": [
      "[nltk_data] Downloading package punkt to C:\\Users\\Fauzan\n",
      "[nltk_data]     Anshori\\AppData\\Roaming\\nltk_data...\n",
      "[nltk_data]   Package punkt is already up-to-date!\n",
      "[nltk_data] Downloading package stopwords to C:\\Users\\Fauzan\n",
      "[nltk_data]     Anshori\\AppData\\Roaming\\nltk_data...\n",
      "[nltk_data]   Package stopwords is already up-to-date!\n",
      "[nltk_data] Downloading package wordnet to C:\\Users\\Fauzan\n",
      "[nltk_data]     Anshori\\AppData\\Roaming\\nltk_data...\n",
      "[nltk_data]   Package wordnet is already up-to-date!\n",
      "[nltk_data] Downloading package omw-1.4 to C:\\Users\\Fauzan\n",
      "[nltk_data]     Anshori\\AppData\\Roaming\\nltk_data...\n",
      "[nltk_data]   Package omw-1.4 is already up-to-date!\n"
     ]
    }
   ],
   "source": [
    "import nltk\n",
    "import nltk.tokenize\n",
    "\n",
    "\n",
    "# Tokenizing\n",
    "nltk.download('punkt')\n",
    "# Stopwords removal\n",
    "nltk.download('stopwords')\n",
    "# Lemmatizer\n",
    "nltk.download('wordnet')\n",
    "nltk.download('omw-1.4')\n",
    "\n",
    "print('Completed')"
   ]
  },
  {
   "cell_type": "code",
   "execution_count": 3,
   "metadata": {},
   "outputs": [],
   "source": [
    "import re\n",
    "\n",
    "def clean_title(title):\n",
    "  re.sub(\"[^a-zA-Z0-9 ]\", \"\", title)\n",
    "  return title\n",
    "\n",
    "def clean_abstract(abstract):\n",
    "  re.sub(\"[a-zA-Z ]\", \"\", abstract)\n",
    "  return abstract\n",
    "\n",
    "jurnal[\"clean_title\"] = jurnal[\"title\"].apply(clean_title)\n",
    "jurnal[\"clean_abstract\"] = jurnal[\"abstract\"].apply(clean_abstract)"
   ]
  },
  {
   "cell_type": "code",
   "execution_count": 4,
   "metadata": {},
   "outputs": [
    {
     "name": "stdout",
     "output_type": "stream",
     "text": [
      "Model saved as 'recommendation_model.pkl'\n"
     ]
    }
   ],
   "source": [
    "import pickle\n",
    "from sklearn.feature_extraction.text import TfidfVectorizer\n",
    "from sklearn.metrics.pairwise import cosine_similarity\n",
    "\n",
    "vectorizer = TfidfVectorizer()\n",
    "tfidf_matrix = vectorizer.fit_transform(jurnal[\"clean_abstract\"])\n",
    "\n",
    "cosine_sim_matrix = cosine_similarity(tfidf_matrix)\n",
    "\n",
    "def get_recommendations(cosine_sim_matrix, titles, user_input, top_n=5):\n",
    "    user_tfidf = vectorizer.transform([user_input])\n",
    "    user_cosine_sim = cosine_similarity(user_tfidf, tfidf_matrix)\n",
    "    \n",
    "    sim_scores = list(enumerate(user_cosine_sim[0]))\n",
    "    sim_scores = sorted(sim_scores, key=lambda x: x[1], reverse=True)\n",
    "    \n",
    "    # Include the first one (itself) as well\n",
    "    sim_scores = sim_scores[:top_n]\n",
    "    \n",
    "    return [titles[i[0]] for i in sim_scores]\n",
    "\n",
    "# Wrap everything into a single dictionary\n",
    "model_data = {\n",
    "    'vectorizer': vectorizer,\n",
    "    'cosine_similarity': cosine_sim_matrix,\n",
    "    'documents': jurnal[\"clean_abstract\"],\n",
    "    'titles': jurnal[\"clean_title\"],\n",
    "    'get_recommendations': get_recommendations\n",
    "}\n",
    "\n",
    "# Save the model data as a pickle file\n",
    "with open('recommendation_model.pkl', 'wb') as f:\n",
    "    pickle.dump(model_data, f)\n",
    "\n",
    "print(\"Model saved as 'recommendation_model.pkl'\")"
   ]
  },
  {
   "cell_type": "code",
   "execution_count": null,
   "metadata": {},
   "outputs": [],
   "source": [
    "# Load the saved model from the pickle file\n",
    "with open('recommendation_model.pkl', 'rb') as f:\n",
    "    model_data = pickle.load(f)\n",
    "\n",
    "# Extract the components\n",
    "loaded_vectorizer = model_data['vectorizer']\n",
    "loaded_documents = model_data['documents']\n",
    "loaded_titles = model_data['titles']\n",
    "loaded_cosine_sim = model_data['cosine_similarity']\n",
    "get_recommendations = model_data['get_recommendations']\n",
    "\n",
    "# Take user input\n",
    "user_input = input(\"Enter the journal text you are interested in: \")\n",
    "\n",
    "# Get recommendations based on the user's input\n",
    "recommendations = get_recommendations(loaded_cosine_sim, loaded_titles, user_input)\n",
    "\n",
    "# Display the recommendations\n",
    "print(\"Recommended Journals/Articles:\")\n",
    "for rec in recommendations:\n",
    "    print(rec)\n"
   ]
  }
 ],
 "metadata": {
  "kernelspec": {
   "display_name": "Python 3",
   "language": "python",
   "name": "python3"
  },
  "language_info": {
   "codemirror_mode": {
    "name": "ipython",
    "version": 3
   },
   "file_extension": ".py",
   "mimetype": "text/x-python",
   "name": "python",
   "nbconvert_exporter": "python",
   "pygments_lexer": "ipython3",
   "version": "3.12.6"
  }
 },
 "nbformat": 4,
 "nbformat_minor": 2
}
