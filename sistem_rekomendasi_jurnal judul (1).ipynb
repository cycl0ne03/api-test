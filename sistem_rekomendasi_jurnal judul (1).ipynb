{
 "cells": [
  {
   "cell_type": "code",
   "execution_count": 1,
   "metadata": {
    "id": "kCOSPANm6aUB"
   },
   "outputs": [],
   "source": [
    "import pandas as pd\n",
    "jurnal = pd.read_csv(r\"C:\\Users\\Fauzan Anshori\\Downloads\\Jurnal ML\\datajurnal2.csv\",sep=\";\")"
   ]
  },
  {
   "cell_type": "code",
   "execution_count": 2,
   "metadata": {
    "colab": {
     "base_uri": "https://localhost:8080/"
    },
    "id": "B6V7fqKmRWGk",
    "outputId": "04546121-238e-4add-ea02-1aeb7a286ed5"
   },
   "outputs": [
    {
     "data": {
      "text/html": [
       "<div>\n",
       "<style scoped>\n",
       "    .dataframe tbody tr th:only-of-type {\n",
       "        vertical-align: middle;\n",
       "    }\n",
       "\n",
       "    .dataframe tbody tr th {\n",
       "        vertical-align: top;\n",
       "    }\n",
       "\n",
       "    .dataframe thead th {\n",
       "        text-align: right;\n",
       "    }\n",
       "</style>\n",
       "<table border=\"1\" class=\"dataframe\">\n",
       "  <thead>\n",
       "    <tr style=\"text-align: right;\">\n",
       "      <th></th>\n",
       "      <th>journalId</th>\n",
       "      <th>title</th>\n",
       "      <th>abstract</th>\n",
       "      <th>keywords</th>\n",
       "    </tr>\n",
       "  </thead>\n",
       "  <tbody>\n",
       "    <tr>\n",
       "      <th>0</th>\n",
       "      <td>1</td>\n",
       "      <td>Mesenchymal Transformation: The Rosetta Stone ...</td>\n",
       "      <td>Despite decades of research, glioblastoma (GB...</td>\n",
       "      <td>clinical outcome|glioblastoma (GBM)|mesenchyma...</td>\n",
       "    </tr>\n",
       "    <tr>\n",
       "      <th>1</th>\n",
       "      <td>2</td>\n",
       "      <td>DGAT1 protects tumor from lipotoxicity, emergi...</td>\n",
       "      <td>We recently demonstrated that glioblastoma, th...</td>\n",
       "      <td>DGAT1|glioblastoma|lipotoxicity|oxidative stre...</td>\n",
       "    </tr>\n",
       "    <tr>\n",
       "      <th>2</th>\n",
       "      <td>3</td>\n",
       "      <td>Anti-PD-1 Immunotherapy in Preclinical GL261 G...</td>\n",
       "      <td>Glioblastomas (GBs) are malignant brain tumou...</td>\n",
       "      <td>TMZ|checkpoint inhibitors|glioblastoma|long-te...</td>\n",
       "    </tr>\n",
       "    <tr>\n",
       "      <th>3</th>\n",
       "      <td>4</td>\n",
       "      <td>Recent Updates on the Relationship between Can...</td>\n",
       "      <td>Autoimmune pancreatitis (AIP) is now considere...</td>\n",
       "      <td>IgG4-related disease|autoimmune pancreatitis|c...</td>\n",
       "    </tr>\n",
       "    <tr>\n",
       "      <th>4</th>\n",
       "      <td>5</td>\n",
       "      <td>Cancer and cure: A critical analysis</td>\n",
       "      <td>Cancer is one of the most dreaded diseases of ...</td>\n",
       "      <td>cancer|cure.</td>\n",
       "    </tr>\n",
       "  </tbody>\n",
       "</table>\n",
       "</div>"
      ],
      "text/plain": [
       "   journalId                                              title  \\\n",
       "0          1  Mesenchymal Transformation: The Rosetta Stone ...   \n",
       "1          2  DGAT1 protects tumor from lipotoxicity, emergi...   \n",
       "2          3  Anti-PD-1 Immunotherapy in Preclinical GL261 G...   \n",
       "3          4  Recent Updates on the Relationship between Can...   \n",
       "4          5               Cancer and cure: A critical analysis   \n",
       "\n",
       "                                            abstract  \\\n",
       "0   Despite decades of research, glioblastoma (GB...   \n",
       "1  We recently demonstrated that glioblastoma, th...   \n",
       "2   Glioblastomas (GBs) are malignant brain tumou...   \n",
       "3  Autoimmune pancreatitis (AIP) is now considere...   \n",
       "4  Cancer is one of the most dreaded diseases of ...   \n",
       "\n",
       "                                            keywords  \n",
       "0  clinical outcome|glioblastoma (GBM)|mesenchyma...  \n",
       "1  DGAT1|glioblastoma|lipotoxicity|oxidative stre...  \n",
       "2  TMZ|checkpoint inhibitors|glioblastoma|long-te...  \n",
       "3  IgG4-related disease|autoimmune pancreatitis|c...  \n",
       "4                                       cancer|cure.  "
      ]
     },
     "execution_count": 2,
     "metadata": {},
     "output_type": "execute_result"
    }
   ],
   "source": [
    "jurnal.head()\n",
    "#jurnal[\"similarity\"]"
   ]
  },
  {
   "cell_type": "code",
   "execution_count": 3,
   "metadata": {
    "colab": {
     "base_uri": "https://localhost:8080/"
    },
    "id": "Usq6O0FMVw0i",
    "outputId": "ad879b89-7f27-42cd-8ae5-c78a7bd1c3d8"
   },
   "outputs": [
    {
     "name": "stdout",
     "output_type": "stream",
     "text": [
      "Completed\n"
     ]
    },
    {
     "name": "stderr",
     "output_type": "stream",
     "text": [
      "[nltk_data] Downloading package punkt to C:\\Users\\Fauzan\n",
      "[nltk_data]     Anshori\\AppData\\Roaming\\nltk_data...\n",
      "[nltk_data]   Package punkt is already up-to-date!\n",
      "[nltk_data] Downloading package stopwords to C:\\Users\\Fauzan\n",
      "[nltk_data]     Anshori\\AppData\\Roaming\\nltk_data...\n",
      "[nltk_data]   Package stopwords is already up-to-date!\n",
      "[nltk_data] Downloading package wordnet to C:\\Users\\Fauzan\n",
      "[nltk_data]     Anshori\\AppData\\Roaming\\nltk_data...\n",
      "[nltk_data]   Package wordnet is already up-to-date!\n",
      "[nltk_data] Downloading package omw-1.4 to C:\\Users\\Fauzan\n",
      "[nltk_data]     Anshori\\AppData\\Roaming\\nltk_data...\n",
      "[nltk_data]   Package omw-1.4 is already up-to-date!\n"
     ]
    }
   ],
   "source": [
    "import nltk\n",
    "import nltk.tokenize\n",
    "\n",
    "\n",
    "# Tokenizing\n",
    "nltk.download('punkt')\n",
    "# Stopwords removal\n",
    "nltk.download('stopwords')\n",
    "# Lemmatizer\n",
    "nltk.download('wordnet')\n",
    "nltk.download('omw-1.4')\n",
    "\n",
    "print('Completed')"
   ]
  },
  {
   "cell_type": "code",
   "execution_count": 4,
   "metadata": {
    "id": "V3TN6IXGJDAO"
   },
   "outputs": [],
   "source": [
    "import re\n",
    "\n",
    "def clean_title(title):\n",
    "  re.sub(\"[^a-zA-Z0-9 ]\", \"\", title)\n",
    "  return title"
   ]
  },
  {
   "cell_type": "code",
   "execution_count": 5,
   "metadata": {
    "id": "7uJpEaMLQ2TC"
   },
   "outputs": [],
   "source": [
    "jurnal[\"clean_title\"] = jurnal[\"title\"].apply(clean_title)"
   ]
  },
  {
   "cell_type": "code",
   "execution_count": 7,
   "metadata": {
    "id": "N7ahEOJbRPs8"
   },
   "outputs": [
    {
     "name": "stdout",
     "output_type": "stream",
     "text": [
      "(90, 5)\n"
     ]
    }
   ],
   "source": [
    "jurnal\n",
    "print(jurnal.shape)"
   ]
  },
  {
   "cell_type": "code",
   "execution_count": 6,
   "metadata": {
    "id": "-IX3frvGXaU6"
   },
   "outputs": [],
   "source": [
    "import re\n",
    "\n",
    "def clean_abstract(abstract):\n",
    "  re.sub(\"[a-zA-Z ]\", \"\", abstract)\n",
    "  return abstract"
   ]
  },
  {
   "cell_type": "code",
   "execution_count": 7,
   "metadata": {
    "id": "2yHQf-BDXpaK"
   },
   "outputs": [
    {
     "name": "stdout",
     "output_type": "stream",
     "text": [
      "(90, 6)\n"
     ]
    }
   ],
   "source": [
    "jurnal[\"clean_abstract\"] = jurnal[\"abstract\"].apply(clean_abstract)\n",
    "print(jurnal.shape)"
   ]
  },
  {
   "cell_type": "code",
   "execution_count": 31,
   "metadata": {
    "colab": {
     "base_uri": "https://localhost:8080/"
    },
    "id": "1ZEHAJBfXp1G",
    "outputId": "895d3047-3f05-45de-bdbe-e7894f8288a1"
   },
   "outputs": [],
   "source": [
    "# jurnal['word_count'] = jurnal['abstract'].apply(lambda x: len(x.split()))\n",
    "# #jurnal.groupby('keywords')['word_count'].mean()\n",
    "# jurnal.groupby('abstract')['word_count'].mean()\n",
    "# jurnal"
   ]
  },
  {
   "cell_type": "markdown",
   "metadata": {
    "id": "yLr9Q67hbj80"
   },
   "source": [
    "**Vectorizer**"
   ]
  },
  {
   "cell_type": "code",
   "execution_count": 10,
   "metadata": {
    "id": "sfMyS-SnRRCG"
   },
   "outputs": [
    {
     "name": "stdout",
     "output_type": "stream",
     "text": [
      "(90, 6)\n"
     ]
    }
   ],
   "source": [
    "from numpy.lib.function_base import vectorize\n",
    "from sklearn.feature_extraction.text import TfidfVectorizer #mengubah kata menjadi angka\n",
    "\n",
    "vectorizer = TfidfVectorizer(ngram_range=(1, 2))\n",
    "\n",
    "tfidf = vectorizer.fit_transform(jurnal[\"clean_title\"])\n",
    "print(jurnal.shape)"
   ]
  },
  {
   "cell_type": "markdown",
   "metadata": {
    "id": "QCnSJEelbecy"
   },
   "source": [
    "**1. similarity berdasarkan title**"
   ]
  },
  {
   "cell_type": "code",
   "execution_count": 43,
   "metadata": {
    "colab": {
     "base_uri": "https://localhost:8080/"
    },
    "id": "B3vsNKrZk9iY",
    "outputId": "81276201-5b23-4b82-f1c8-2c869ff2ad81"
   },
   "outputs": [
    {
     "name": "stdout",
     "output_type": "stream",
     "text": [
      "CountVectorizer(max_features=90, stop_words='english')\n",
      "(90, 90)\n"
     ]
    }
   ],
   "source": [
    "from sklearn.metrics.pairwise import cosine_similarity # menggunakan pairwise untuk menghitung kedekatan antar kata\n",
    "from sklearn.feature_extraction.text import CountVectorizer\n",
    "import numpy as np\n",
    "\n",
    "cv=CountVectorizer(max_features=90,stop_words='english')\n",
    "print(cv)\n",
    "vector=cv.fit_transform(jurnal['abstract'].values.astype('U')).toarray()\n",
    "print(vector.shape)\n",
    "similar= cosine_similarity(vector)\n",
    "\n",
    "\n",
    "# def search(title): # Membuat fungsi search\n",
    "#     #print(title)\n",
    "#     title = clean_title(title) # Memanggil fungsi clean_title\n",
    "#     #print(title)\n",
    "#     query_vec = vectorizer.transform([title]) # Mengubah isi dataframe title menjadi vektor\n",
    "#     #print(query_vec.shape)\n",
    "#     #print(tfidf.shape)\n",
    "#     similarity = cosine_similarity(query_vec, tfidf).flatten() # Perhitungan cosinus antara pencarian kata dengan dataset\n",
    "#     indices = np.argpartition(similarity, -5)[-5:] # Mendapatkan 5 data terdekat dari hasil pencarian\n",
    "#     results = jurnal.iloc[indices].iloc[::-1] # Menunjukan lokasi data bedasarkan indices\n",
    "\n",
    "#     print(similarity[indices])\n",
    "    \n",
    "#     return results\n",
    "\n",
    "# search(\"Internet of thing\")"
   ]
  },
  {
   "cell_type": "code",
   "execution_count": 34,
   "metadata": {
    "colab": {
     "base_uri": "https://localhost:8080/",
     "height": 49,
     "referenced_widgets": [
      "c4e05d41fde24ee29a7f0080566cfedc",
      "df7f3f1045494567b66bdb09df9d5af6",
      "0bc296fd1e1d420da036f6a7cd8ec60a",
      "59664960e51842d2971e32f7f1a0c347",
      "57cbb44b08ad48fb88495d4bf5a09bd2"
     ]
    },
    "id": "3qezbTzYlV3R",
    "outputId": "9d89bc92-0696-44ab-c412-1482f8675609"
   },
   "outputs": [
    {
     "data": {
      "application/vnd.jupyter.widget-view+json": {
       "model_id": "9e757babae3b43c697094c7648997a4c",
       "version_major": 2,
       "version_minor": 0
      },
      "text/plain": [
       "Text(value='Cancer and cure: A critical analysis', description='jurnal Title:')"
      ]
     },
     "metadata": {},
     "output_type": "display_data"
    },
    {
     "data": {
      "application/vnd.jupyter.widget-view+json": {
       "model_id": "28b1c565e2854c2daf362b9de5dba40d",
       "version_major": 2,
       "version_minor": 0
      },
      "text/plain": [
       "Output()"
      ]
     },
     "metadata": {},
     "output_type": "display_data"
    }
   ],
   "source": [
    "# Membuat search bar interaktif\n",
    "import ipywidgets as widgets\n",
    "from IPython.display import display\n",
    "\n",
    "jurnal_input = widgets.Text( # Variabel input search bar\n",
    "    value='Cancer and cure: A critical analysis',\n",
    "    description='jurnal Title:',\n",
    "    disabled=False\n",
    ")\n",
    "jurnal_list = widgets.Output() # Menampilkan search bar\n",
    "\n",
    "def on_type(data): # Mencari data pada setiap ketikan input\n",
    "    with jurnal_list:\n",
    "            jurnal_list.clear_output()\n",
    "            title = data[\"new\"]\n",
    "            if len(title) > 5: # Membatasi minimal 5 karakter input untuk search\n",
    "                display(search(title)) # Menampilkan hasil search kepada output widget\n",
    "\n",
    "jurnal_input.observe(on_type, names='value') # Memanggil fungsi on_type ketika terjadi perubahan pada input bar\n",
    "\n",
    "display(jurnal_input, jurnal_list) # Menampilkan kedua widget yang dibuat"
   ]
  },
  {
   "cell_type": "markdown",
   "metadata": {
    "id": "X-SYMO8f8WlO"
   },
   "source": [
    "**2. Similarity berdasarkan Abstract**"
   ]
  },
  {
   "cell_type": "code",
   "execution_count": 12,
   "metadata": {
    "colab": {
     "base_uri": "https://localhost:8080/"
    },
    "id": "5Y1RAlw3X9yQ",
    "outputId": "ab15d1f4-1ed3-4f2d-9a61-3dd53bffb717"
   },
   "outputs": [
    {
     "name": "stdout",
     "output_type": "stream",
     "text": [
      "TfidfVectorizer(ngram_range=(1, 2))\n",
      "Cancer and cure: A critical analysis\n",
      "<Compressed Sparse Row sparse matrix of dtype 'float64'\n",
      "\twith 9 stored elements and shape (1, 1110)>\n",
      "  Coords\tValues\n",
      "  (0, 48)\t0.32947333218202296\n",
      "  (0, 51)\t0.1609079318976815\n",
      "  (0, 57)\t0.3848424446147665\n",
      "  (0, 162)\t0.2009102344354586\n",
      "  (0, 164)\t0.35245359014339805\n",
      "  (0, 247)\t0.32947333218202296\n",
      "  (0, 248)\t0.3848424446147665\n",
      "  (0, 251)\t0.3848424446147665\n",
      "  (0, 252)\t0.3848424446147665\n",
      "[0.06390462 0.08281529 0.12465054 1.         0.09955284]\n"
     ]
    },
    {
     "data": {
      "text/html": [
       "<div>\n",
       "<style scoped>\n",
       "    .dataframe tbody tr th:only-of-type {\n",
       "        vertical-align: middle;\n",
       "    }\n",
       "\n",
       "    .dataframe tbody tr th {\n",
       "        vertical-align: top;\n",
       "    }\n",
       "\n",
       "    .dataframe thead th {\n",
       "        text-align: right;\n",
       "    }\n",
       "</style>\n",
       "<table border=\"1\" class=\"dataframe\">\n",
       "  <thead>\n",
       "    <tr style=\"text-align: right;\">\n",
       "      <th></th>\n",
       "      <th>journalId</th>\n",
       "      <th>title</th>\n",
       "      <th>abstract</th>\n",
       "      <th>keywords</th>\n",
       "      <th>clean_title</th>\n",
       "      <th>clean_abstract</th>\n",
       "    </tr>\n",
       "  </thead>\n",
       "  <tbody>\n",
       "    <tr>\n",
       "      <th>11</th>\n",
       "      <td>12</td>\n",
       "      <td>Detection of Cancer DNA in Early Stage and Met...</td>\n",
       "      <td>Breast cancer is the leading cause of cancer i...</td>\n",
       "      <td>Biopsy|Blood|Breast cancer|Droplet digital|Li...</td>\n",
       "      <td>Detection of Cancer DNA in Early Stage and Met...</td>\n",
       "      <td>Breast cancer is the leading cause of cancer i...</td>\n",
       "    </tr>\n",
       "    <tr>\n",
       "      <th>35</th>\n",
       "      <td>36</td>\n",
       "      <td>Machine learning for internet of things data a...</td>\n",
       "      <td>Rapid developments in hardware, software, and ...</td>\n",
       "      <td>internet of things.</td>\n",
       "      <td>Machine learning for internet of things data a...</td>\n",
       "      <td>Rapid developments in hardware, software, and ...</td>\n",
       "    </tr>\n",
       "    <tr>\n",
       "      <th>3</th>\n",
       "      <td>4</td>\n",
       "      <td>Recent Updates on the Relationship between Can...</td>\n",
       "      <td>Autoimmune pancreatitis (AIP) is now considere...</td>\n",
       "      <td>IgG4-related disease|autoimmune pancreatitis|c...</td>\n",
       "      <td>Recent Updates on the Relationship between Can...</td>\n",
       "      <td>Autoimmune pancreatitis (AIP) is now considere...</td>\n",
       "    </tr>\n",
       "    <tr>\n",
       "      <th>4</th>\n",
       "      <td>5</td>\n",
       "      <td>Cancer and cure: A critical analysis</td>\n",
       "      <td>Cancer is one of the most dreaded diseases of ...</td>\n",
       "      <td>cancer|cure.</td>\n",
       "      <td>Cancer and cure: A critical analysis</td>\n",
       "      <td>Cancer is one of the most dreaded diseases of ...</td>\n",
       "    </tr>\n",
       "    <tr>\n",
       "      <th>85</th>\n",
       "      <td>86</td>\n",
       "      <td>Exact Controllability and Asymptotic Analysis ...</td>\n",
       "      <td>the authors consider the exact controllability...</td>\n",
       "      <td>NaN</td>\n",
       "      <td>Exact Controllability and Asymptotic Analysis ...</td>\n",
       "      <td>the authors consider the exact controllability...</td>\n",
       "    </tr>\n",
       "  </tbody>\n",
       "</table>\n",
       "</div>"
      ],
      "text/plain": [
       "    journalId                                              title  \\\n",
       "11         12  Detection of Cancer DNA in Early Stage and Met...   \n",
       "35         36  Machine learning for internet of things data a...   \n",
       "3           4  Recent Updates on the Relationship between Can...   \n",
       "4           5               Cancer and cure: A critical analysis   \n",
       "85         86  Exact Controllability and Asymptotic Analysis ...   \n",
       "\n",
       "                                             abstract  \\\n",
       "11  Breast cancer is the leading cause of cancer i...   \n",
       "35  Rapid developments in hardware, software, and ...   \n",
       "3   Autoimmune pancreatitis (AIP) is now considere...   \n",
       "4   Cancer is one of the most dreaded diseases of ...   \n",
       "85  the authors consider the exact controllability...   \n",
       "\n",
       "                                             keywords  \\\n",
       "11   Biopsy|Blood|Breast cancer|Droplet digital|Li...   \n",
       "35                                internet of things.   \n",
       "3   IgG4-related disease|autoimmune pancreatitis|c...   \n",
       "4                                        cancer|cure.   \n",
       "85                                                NaN   \n",
       "\n",
       "                                          clean_title  \\\n",
       "11  Detection of Cancer DNA in Early Stage and Met...   \n",
       "35  Machine learning for internet of things data a...   \n",
       "3   Recent Updates on the Relationship between Can...   \n",
       "4                Cancer and cure: A critical analysis   \n",
       "85  Exact Controllability and Asymptotic Analysis ...   \n",
       "\n",
       "                                       clean_abstract  \n",
       "11  Breast cancer is the leading cause of cancer i...  \n",
       "35  Rapid developments in hardware, software, and ...  \n",
       "3   Autoimmune pancreatitis (AIP) is now considere...  \n",
       "4   Cancer is one of the most dreaded diseases of ...  \n",
       "85  the authors consider the exact controllability...  "
      ]
     },
     "execution_count": 12,
     "metadata": {},
     "output_type": "execute_result"
    }
   ],
   "source": [
    "from sklearn.metrics.pairwise import cosine_similarity # menggunakan pairwise untuk menghitung kedekatan antar kata\n",
    "import numpy as np\n",
    "\n",
    "print(vectorizer)\n",
    "\n",
    "def search(abstract): # Membuat fungsi search\n",
    "    print(abstract)\n",
    "    abstract = clean_abstract(abstract) # Memanggil fungsi clean_abstract\n",
    "    query_vec = vectorizer.transform([abstract]) # Mengubah isi dataframe abstract menjadi vektor\n",
    "    print(query_vec)\n",
    "    similarity = cosine_similarity(query_vec, tfidf).flatten() # Perhitungan cosinus antara pencarian kata dengan dataset\n",
    "    indices = np.argpartition(similarity, -5)[-5:] # Menampilkan data terdekat dari hasil pencarian, mengurutkan nilai besar ke paling depan\n",
    "    results = jurnal.iloc[indices].iloc[::1] # Menunjukan lokasi data bedasarkan indices\n",
    "    \n",
    "    #jurnal['similarity'] = jurnal['abstract'].apply(similarity)\n",
    "    #jurnal.groupby('clean_abstract')['similarity'].mean()\n",
    "    #rec_percentages.head(10).merge(jurnal, left_index=True, right_on=\"title\")\n",
    "    #print(similarity)\n",
    "\n",
    "    print(similarity[indices])\n",
    "    return results\n",
    "\n",
    "search(\"Cancer and cure: A critical analysis\")\n",
    "\n",
    " "
   ]
  },
  {
   "cell_type": "code",
   "execution_count": 36,
   "metadata": {},
   "outputs": [],
   "source": [
    "#import streamlit as st\n",
    "#import pickle\n",
    "#import requests\n",
    "\n",
    "#st.title('Sistem Rekomendasi Jurnal')\n",
    "#selected_journal_name = st.selectbox(\n",
    "##    ([\"Measuring cancer evolution from the genome\"]))"
   ]
  },
  {
   "cell_type": "code",
   "execution_count": 37,
   "metadata": {},
   "outputs": [],
   "source": [
    "# def add_bg_from_url():\n",
    "#     st.markdown(\n",
    "#          f\"\"\"\n",
    "#          <style>\n",
    "#          .stApp {{\n",
    "#              background-image: url(\"https://encrypted-tbn0.gstatic.com/images?q=tbn:ANd9GcR60O2-muWvwgWvwmzklx-IydP5j0NZsLnHpg&usqp=CAU\");\n",
    "#              background-attachment: fixed;\n",
    "#              background-size: cover\n",
    "#          }}\n",
    "#          </style>\n",
    "#          \"\"\",\n",
    "#          unsafe_allow_html=True\n",
    "#      )"
   ]
  },
  {
   "cell_type": "code",
   "execution_count": 9,
   "metadata": {},
   "outputs": [],
   "source": [
    "import pickle"
   ]
  },
  {
   "cell_type": "code",
   "execution_count": 10,
   "metadata": {},
   "outputs": [],
   "source": [
    "pickle.dump(jurnal, open('jurnal_list.pkl', 'wb'))"
   ]
  },
  {
   "cell_type": "code",
   "execution_count": 40,
   "metadata": {
    "id": "634X3zecJkrU"
   },
   "outputs": [
    {
     "name": "stdout",
     "output_type": "stream",
     "text": [
      "(90, 90)\n"
     ]
    }
   ],
   "source": [
    "pickle.dump(vector, open('similarity.pkl', 'wb'))\n",
    "print(vector.shape)"
   ]
  },
  {
   "cell_type": "code",
   "execution_count": 41,
   "metadata": {
    "id": "BYbYGeW_1FI0"
   },
   "outputs": [
    {
     "data": {
      "text/html": [
       "<div>\n",
       "<style scoped>\n",
       "    .dataframe tbody tr th:only-of-type {\n",
       "        vertical-align: middle;\n",
       "    }\n",
       "\n",
       "    .dataframe tbody tr th {\n",
       "        vertical-align: top;\n",
       "    }\n",
       "\n",
       "    .dataframe thead th {\n",
       "        text-align: right;\n",
       "    }\n",
       "</style>\n",
       "<table border=\"1\" class=\"dataframe\">\n",
       "  <thead>\n",
       "    <tr style=\"text-align: right;\">\n",
       "      <th></th>\n",
       "      <th>journalId</th>\n",
       "      <th>title</th>\n",
       "      <th>abstract</th>\n",
       "      <th>keywords</th>\n",
       "      <th>clean_title</th>\n",
       "      <th>clean_abstract</th>\n",
       "    </tr>\n",
       "  </thead>\n",
       "  <tbody>\n",
       "    <tr>\n",
       "      <th>0</th>\n",
       "      <td>1</td>\n",
       "      <td>Mesenchymal Transformation: The Rosetta Stone ...</td>\n",
       "      <td>Despite decades of research, glioblastoma (GB...</td>\n",
       "      <td>clinical outcome|glioblastoma (GBM)|mesenchyma...</td>\n",
       "      <td>Mesenchymal Transformation: The Rosetta Stone ...</td>\n",
       "      <td>Despite decades of research, glioblastoma (GB...</td>\n",
       "    </tr>\n",
       "    <tr>\n",
       "      <th>1</th>\n",
       "      <td>2</td>\n",
       "      <td>DGAT1 protects tumor from lipotoxicity, emergi...</td>\n",
       "      <td>We recently demonstrated that glioblastoma, th...</td>\n",
       "      <td>DGAT1|glioblastoma|lipotoxicity|oxidative stre...</td>\n",
       "      <td>DGAT1 protects tumor from lipotoxicity, emergi...</td>\n",
       "      <td>We recently demonstrated that glioblastoma, th...</td>\n",
       "    </tr>\n",
       "    <tr>\n",
       "      <th>2</th>\n",
       "      <td>3</td>\n",
       "      <td>Anti-PD-1 Immunotherapy in Preclinical GL261 G...</td>\n",
       "      <td>Glioblastomas (GBs) are malignant brain tumou...</td>\n",
       "      <td>TMZ|checkpoint inhibitors|glioblastoma|long-te...</td>\n",
       "      <td>Anti-PD-1 Immunotherapy in Preclinical GL261 G...</td>\n",
       "      <td>Glioblastomas (GBs) are malignant brain tumou...</td>\n",
       "    </tr>\n",
       "    <tr>\n",
       "      <th>3</th>\n",
       "      <td>4</td>\n",
       "      <td>Recent Updates on the Relationship between Can...</td>\n",
       "      <td>Autoimmune pancreatitis (AIP) is now considere...</td>\n",
       "      <td>IgG4-related disease|autoimmune pancreatitis|c...</td>\n",
       "      <td>Recent Updates on the Relationship between Can...</td>\n",
       "      <td>Autoimmune pancreatitis (AIP) is now considere...</td>\n",
       "    </tr>\n",
       "    <tr>\n",
       "      <th>4</th>\n",
       "      <td>5</td>\n",
       "      <td>Cancer and cure: A critical analysis</td>\n",
       "      <td>Cancer is one of the most dreaded diseases of ...</td>\n",
       "      <td>cancer|cure.</td>\n",
       "      <td>Cancer and cure: A critical analysis</td>\n",
       "      <td>Cancer is one of the most dreaded diseases of ...</td>\n",
       "    </tr>\n",
       "    <tr>\n",
       "      <th>...</th>\n",
       "      <td>...</td>\n",
       "      <td>...</td>\n",
       "      <td>...</td>\n",
       "      <td>...</td>\n",
       "      <td>...</td>\n",
       "      <td>...</td>\n",
       "    </tr>\n",
       "    <tr>\n",
       "      <th>85</th>\n",
       "      <td>86</td>\n",
       "      <td>Exact Controllability and Asymptotic Analysis ...</td>\n",
       "      <td>the authors consider the exact controllability...</td>\n",
       "      <td>NaN</td>\n",
       "      <td>Exact Controllability and Asymptotic Analysis ...</td>\n",
       "      <td>the authors consider the exact controllability...</td>\n",
       "    </tr>\n",
       "    <tr>\n",
       "      <th>86</th>\n",
       "      <td>87</td>\n",
       "      <td>Existence and Asymptotic Behavior of Radially ...</td>\n",
       "      <td>This paper is concerned with a class of semili...</td>\n",
       "      <td>NaN</td>\n",
       "      <td>Existence and Asymptotic Behavior of Radially ...</td>\n",
       "      <td>This paper is concerned with a class of semili...</td>\n",
       "    </tr>\n",
       "    <tr>\n",
       "      <th>87</th>\n",
       "      <td>88</td>\n",
       "      <td>Global Bifurcation of a Perturbed Double-Homoc...</td>\n",
       "      <td>This paper deals with a kind of fourth degree ...</td>\n",
       "      <td>NaN</td>\n",
       "      <td>Global Bifurcation of a Perturbed Double-Homoc...</td>\n",
       "      <td>This paper deals with a kind of fourth degree ...</td>\n",
       "    </tr>\n",
       "    <tr>\n",
       "      <th>88</th>\n",
       "      <td>89</td>\n",
       "      <td>Global Existence of Classical Solutions for So...</td>\n",
       "      <td>In this paper, we prove local and global exist...</td>\n",
       "      <td>NaN</td>\n",
       "      <td>Global Existence of Classical Solutions for So...</td>\n",
       "      <td>In this paper, we prove local and global exist...</td>\n",
       "    </tr>\n",
       "    <tr>\n",
       "      <th>89</th>\n",
       "      <td>90</td>\n",
       "      <td>Homogenization of Reynolds Equation by Two-Sca...</td>\n",
       "      <td>To increase the hydrodynamic performance in di...</td>\n",
       "      <td>NaN</td>\n",
       "      <td>Homogenization of Reynolds Equation by Two-Sca...</td>\n",
       "      <td>To increase the hydrodynamic performance in di...</td>\n",
       "    </tr>\n",
       "  </tbody>\n",
       "</table>\n",
       "<p>90 rows × 6 columns</p>\n",
       "</div>"
      ],
      "text/plain": [
       "    journalId                                              title  \\\n",
       "0           1  Mesenchymal Transformation: The Rosetta Stone ...   \n",
       "1           2  DGAT1 protects tumor from lipotoxicity, emergi...   \n",
       "2           3  Anti-PD-1 Immunotherapy in Preclinical GL261 G...   \n",
       "3           4  Recent Updates on the Relationship between Can...   \n",
       "4           5               Cancer and cure: A critical analysis   \n",
       "..        ...                                                ...   \n",
       "85         86  Exact Controllability and Asymptotic Analysis ...   \n",
       "86         87  Existence and Asymptotic Behavior of Radially ...   \n",
       "87         88  Global Bifurcation of a Perturbed Double-Homoc...   \n",
       "88         89  Global Existence of Classical Solutions for So...   \n",
       "89         90  Homogenization of Reynolds Equation by Two-Sca...   \n",
       "\n",
       "                                             abstract  \\\n",
       "0    Despite decades of research, glioblastoma (GB...   \n",
       "1   We recently demonstrated that glioblastoma, th...   \n",
       "2    Glioblastomas (GBs) are malignant brain tumou...   \n",
       "3   Autoimmune pancreatitis (AIP) is now considere...   \n",
       "4   Cancer is one of the most dreaded diseases of ...   \n",
       "..                                                ...   \n",
       "85  the authors consider the exact controllability...   \n",
       "86  This paper is concerned with a class of semili...   \n",
       "87  This paper deals with a kind of fourth degree ...   \n",
       "88  In this paper, we prove local and global exist...   \n",
       "89  To increase the hydrodynamic performance in di...   \n",
       "\n",
       "                                             keywords  \\\n",
       "0   clinical outcome|glioblastoma (GBM)|mesenchyma...   \n",
       "1   DGAT1|glioblastoma|lipotoxicity|oxidative stre...   \n",
       "2   TMZ|checkpoint inhibitors|glioblastoma|long-te...   \n",
       "3   IgG4-related disease|autoimmune pancreatitis|c...   \n",
       "4                                        cancer|cure.   \n",
       "..                                                ...   \n",
       "85                                                NaN   \n",
       "86                                                NaN   \n",
       "87                                                NaN   \n",
       "88                                                NaN   \n",
       "89                                                NaN   \n",
       "\n",
       "                                          clean_title  \\\n",
       "0   Mesenchymal Transformation: The Rosetta Stone ...   \n",
       "1   DGAT1 protects tumor from lipotoxicity, emergi...   \n",
       "2   Anti-PD-1 Immunotherapy in Preclinical GL261 G...   \n",
       "3   Recent Updates on the Relationship between Can...   \n",
       "4                Cancer and cure: A critical analysis   \n",
       "..                                                ...   \n",
       "85  Exact Controllability and Asymptotic Analysis ...   \n",
       "86  Existence and Asymptotic Behavior of Radially ...   \n",
       "87  Global Bifurcation of a Perturbed Double-Homoc...   \n",
       "88  Global Existence of Classical Solutions for So...   \n",
       "89  Homogenization of Reynolds Equation by Two-Sca...   \n",
       "\n",
       "                                       clean_abstract  \n",
       "0    Despite decades of research, glioblastoma (GB...  \n",
       "1   We recently demonstrated that glioblastoma, th...  \n",
       "2    Glioblastomas (GBs) are malignant brain tumou...  \n",
       "3   Autoimmune pancreatitis (AIP) is now considere...  \n",
       "4   Cancer is one of the most dreaded diseases of ...  \n",
       "..                                                ...  \n",
       "85  the authors consider the exact controllability...  \n",
       "86  This paper is concerned with a class of semili...  \n",
       "87  This paper deals with a kind of fourth degree ...  \n",
       "88  In this paper, we prove local and global exist...  \n",
       "89  To increase the hydrodynamic performance in di...  \n",
       "\n",
       "[90 rows x 6 columns]"
      ]
     },
     "execution_count": 41,
     "metadata": {},
     "output_type": "execute_result"
    }
   ],
   "source": [
    "pickle.load(open('jurnal_list.pkl', 'rb'))\n"
   ]
  }
 ],
 "metadata": {
  "accelerator": "GPU",
  "colab": {
   "gpuType": "T4",
   "provenance": []
  },
  "kernelspec": {
   "display_name": "Python 3",
   "name": "python3"
  },
  "language_info": {
   "codemirror_mode": {
    "name": "ipython",
    "version": 3
   },
   "file_extension": ".py",
   "mimetype": "text/x-python",
   "name": "python",
   "nbconvert_exporter": "python",
   "pygments_lexer": "ipython3",
   "version": "3.12.6"
  },
  "widgets": {
   "application/vnd.jupyter.widget-state+json": {
    "0bc296fd1e1d420da036f6a7cd8ec60a": {
     "model_module": "@jupyter-widgets/controls",
     "model_module_version": "1.5.0",
     "model_name": "DescriptionStyleModel",
     "state": {
      "_model_module": "@jupyter-widgets/controls",
      "_model_module_version": "1.5.0",
      "_model_name": "DescriptionStyleModel",
      "_view_count": null,
      "_view_module": "@jupyter-widgets/base",
      "_view_module_version": "1.2.0",
      "_view_name": "StyleView",
      "description_width": ""
     }
    },
    "57cbb44b08ad48fb88495d4bf5a09bd2": {
     "model_module": "@jupyter-widgets/base",
     "model_module_version": "1.2.0",
     "model_name": "LayoutModel",
     "state": {
      "_model_module": "@jupyter-widgets/base",
      "_model_module_version": "1.2.0",
      "_model_name": "LayoutModel",
      "_view_count": null,
      "_view_module": "@jupyter-widgets/base",
      "_view_module_version": "1.2.0",
      "_view_name": "LayoutView",
      "align_content": null,
      "align_items": null,
      "align_self": null,
      "border": null,
      "bottom": null,
      "display": null,
      "flex": null,
      "flex_flow": null,
      "grid_area": null,
      "grid_auto_columns": null,
      "grid_auto_flow": null,
      "grid_auto_rows": null,
      "grid_column": null,
      "grid_gap": null,
      "grid_row": null,
      "grid_template_areas": null,
      "grid_template_columns": null,
      "grid_template_rows": null,
      "height": null,
      "justify_content": null,
      "justify_items": null,
      "left": null,
      "margin": null,
      "max_height": null,
      "max_width": null,
      "min_height": null,
      "min_width": null,
      "object_fit": null,
      "object_position": null,
      "order": null,
      "overflow": null,
      "overflow_x": null,
      "overflow_y": null,
      "padding": null,
      "right": null,
      "top": null,
      "visibility": null,
      "width": null
     }
    },
    "59664960e51842d2971e32f7f1a0c347": {
     "model_module": "@jupyter-widgets/output",
     "model_module_version": "1.0.0",
     "model_name": "OutputModel",
     "state": {
      "_dom_classes": [],
      "_model_module": "@jupyter-widgets/output",
      "_model_module_version": "1.0.0",
      "_model_name": "OutputModel",
      "_view_count": null,
      "_view_module": "@jupyter-widgets/output",
      "_view_module_version": "1.0.0",
      "_view_name": "OutputView",
      "layout": "IPY_MODEL_57cbb44b08ad48fb88495d4bf5a09bd2",
      "msg_id": "",
      "outputs": []
     }
    },
    "c4e05d41fde24ee29a7f0080566cfedc": {
     "model_module": "@jupyter-widgets/controls",
     "model_module_version": "1.5.0",
     "model_name": "TextModel",
     "state": {
      "_dom_classes": [],
      "_model_module": "@jupyter-widgets/controls",
      "_model_module_version": "1.5.0",
      "_model_name": "TextModel",
      "_view_count": null,
      "_view_module": "@jupyter-widgets/controls",
      "_view_module_version": "1.5.0",
      "_view_name": "TextView",
      "continuous_update": true,
      "description": "jurnal Title:",
      "description_tooltip": null,
      "disabled": false,
      "layout": "IPY_MODEL_df7f3f1045494567b66bdb09df9d5af6",
      "placeholder": "​",
      "style": "IPY_MODEL_0bc296fd1e1d420da036f6a7cd8ec60a",
      "value": "Cancer and cure: A critical analysis"
     }
    },
    "df7f3f1045494567b66bdb09df9d5af6": {
     "model_module": "@jupyter-widgets/base",
     "model_module_version": "1.2.0",
     "model_name": "LayoutModel",
     "state": {
      "_model_module": "@jupyter-widgets/base",
      "_model_module_version": "1.2.0",
      "_model_name": "LayoutModel",
      "_view_count": null,
      "_view_module": "@jupyter-widgets/base",
      "_view_module_version": "1.2.0",
      "_view_name": "LayoutView",
      "align_content": null,
      "align_items": null,
      "align_self": null,
      "border": null,
      "bottom": null,
      "display": null,
      "flex": null,
      "flex_flow": null,
      "grid_area": null,
      "grid_auto_columns": null,
      "grid_auto_flow": null,
      "grid_auto_rows": null,
      "grid_column": null,
      "grid_gap": null,
      "grid_row": null,
      "grid_template_areas": null,
      "grid_template_columns": null,
      "grid_template_rows": null,
      "height": null,
      "justify_content": null,
      "justify_items": null,
      "left": null,
      "margin": null,
      "max_height": null,
      "max_width": null,
      "min_height": null,
      "min_width": null,
      "object_fit": null,
      "object_position": null,
      "order": null,
      "overflow": null,
      "overflow_x": null,
      "overflow_y": null,
      "padding": null,
      "right": null,
      "top": null,
      "visibility": null,
      "width": null
     }
    }
   }
  }
 },
 "nbformat": 4,
 "nbformat_minor": 0
}
