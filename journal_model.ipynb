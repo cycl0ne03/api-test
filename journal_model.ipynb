{
 "cells": [
  {
   "cell_type": "code",
   "execution_count": 1,
   "metadata": {},
   "outputs": [],
   "source": [
    "import pandas as pd\n",
    "jurnal = pd.read_csv(r\"C:\\Users\\Fauzan Anshori\\Downloads\\Jurnal ML\\datajurnal2.csv\",sep=\";\")"
   ]
  },
  {
   "cell_type": "code",
   "execution_count": 2,
   "metadata": {},
   "outputs": [
    {
     "name": "stdout",
     "output_type": "stream",
     "text": [
      "Completed\n"
     ]
    },
    {
     "name": "stderr",
     "output_type": "stream",
     "text": [
      "[nltk_data] Downloading package punkt to C:\\Users\\Fauzan\n",
      "[nltk_data]     Anshori\\AppData\\Roaming\\nltk_data...\n",
      "[nltk_data]   Package punkt is already up-to-date!\n",
      "[nltk_data] Downloading package stopwords to C:\\Users\\Fauzan\n",
      "[nltk_data]     Anshori\\AppData\\Roaming\\nltk_data...\n",
      "[nltk_data]   Package stopwords is already up-to-date!\n",
      "[nltk_data] Downloading package wordnet to C:\\Users\\Fauzan\n",
      "[nltk_data]     Anshori\\AppData\\Roaming\\nltk_data...\n",
      "[nltk_data]   Package wordnet is already up-to-date!\n",
      "[nltk_data] Downloading package omw-1.4 to C:\\Users\\Fauzan\n",
      "[nltk_data]     Anshori\\AppData\\Roaming\\nltk_data...\n",
      "[nltk_data]   Package omw-1.4 is already up-to-date!\n"
     ]
    }
   ],
   "source": [
    "import nltk\n",
    "import nltk.tokenize\n",
    "\n",
    "\n",
    "# Tokenizing\n",
    "nltk.download('punkt')\n",
    "# Stopwords removal\n",
    "nltk.download('stopwords')\n",
    "# Lemmatizer\n",
    "nltk.download('wordnet')\n",
    "nltk.download('omw-1.4')\n",
    "\n",
    "print('Completed')"
   ]
  },
  {
   "cell_type": "code",
   "execution_count": 3,
   "metadata": {},
   "outputs": [],
   "source": [
    "import re\n",
    "\n",
    "def clean_title(title):\n",
    "  re.sub(\"[^a-zA-Z0-9 ]\", \"\", title)\n",
    "  return title\n",
    "\n",
    "def clean_abstract(abstract):\n",
    "  re.sub(\"[a-zA-Z ]\", \"\", abstract)\n",
    "  return abstract\n",
    "\n",
    "jurnal[\"clean_title\"] = jurnal[\"title\"].apply(clean_title)\n",
    "jurnal[\"clean_abstract\"] = jurnal[\"abstract\"].apply(clean_abstract)"
   ]
  },
  {
   "cell_type": "code",
   "execution_count": 4,
   "metadata": {},
   "outputs": [
    {
     "name": "stdout",
     "output_type": "stream",
     "text": [
      "Model saved as 'recommendation_model.pkl'\n"
     ]
    }
   ],
   "source": [
    "import pickle\n",
    "from sklearn.feature_extraction.text import TfidfVectorizer\n",
    "from sklearn.metrics.pairwise import cosine_similarity\n",
    "\n",
    "vectorizer = TfidfVectorizer()\n",
    "tfidf_matrix = vectorizer.fit_transform(jurnal[\"clean_abstract\"])\n",
    "\n",
    "cosine_sim_matrix = cosine_similarity(tfidf_matrix)\n",
    "\n",
    "with open('recommendation_model.pkl', 'wb') as f:\n",
    "    pickle.dump({\n",
    "        'vectorizer': vectorizer,\n",
    "        'cosine_similarity': cosine_sim_matrix,\n",
    "        'documents': jurnal[\"clean_abstract\"],\n",
    "        'titles': jurnal[\"clean_title\"]\n",
    "    }, f)\n",
    "\n",
    "print(\"Model saved as 'recommendation_model.pkl'\")"
   ]
  },
  {
   "cell_type": "code",
   "execution_count": 6,
   "metadata": {},
   "outputs": [
    {
     "name": "stdout",
     "output_type": "stream",
     "text": [
      "Recommended Journals/Articles:\n",
      "Mapping cancer origins\n",
      "An overview of internet of things\n",
      "Cancer and cure: A critical analysis\n",
      "Existence and Asymptotic Behavior of Radially Symmetric Solutions to a Semilinear Hyperbolic System in Odd Space Dimensions∗∗∗\n",
      "Pathophysiology of lung cancer\n"
     ]
    }
   ],
   "source": [
    "import pickle\n",
    "from sklearn.metrics.pairwise import cosine_similarity\n",
    "\n",
    "# Step 1: Load the saved TF-IDF vectorizer and documents from the pickle file\n",
    "with open('recommendation_model.pkl', 'rb') as f:\n",
    "    model_data = pickle.load(f)\n",
    "\n",
    "# Extract the vectorizer, cosine similarity matrix, and documents\n",
    "loaded_vectorizer = model_data['vectorizer']\n",
    "loaded_cosine_sim = model_data['cosine_similarity']\n",
    "loaded_documents = model_data['documents']\n",
    "loaded_titles = model_data['titles']\n",
    "\n",
    "# Step 2: Function to recommend similar documents based on cosine similarity\n",
    "def get_recommendations(cosine_sim_matrix, titles, top_n=5):\n",
    "    # Sort documents based on similarity scores in descending order\n",
    "    sim_scores = list(enumerate(cosine_sim_matrix[0]))\n",
    "    sim_scores = sorted(sim_scores, key=lambda x: x[1], reverse=True)\n",
    "    sim_scores = sim_scores[:top_n]  # Exclude the first one (itself)\n",
    "    # first_indices = [item[0] for item in sim_scores]\n",
    "    # Return the most similar documentsd\n",
    "    # print(first_indices)\n",
    "    return [titles[i[0]] for i in sim_scores]\n",
    "\n",
    "# Step 3: Take user input\n",
    "user_input = input(\"Enter the journal text you are interested in: \")\n",
    "\n",
    "# Step 4: Transform the user input into a TF-IDF vector\n",
    "user_tfidf = loaded_vectorizer.transform([user_input])\n",
    "\n",
    "# Step 5: Compute the cosine similarity between user input and stored documents\n",
    "user_cosine_sim = cosine_similarity(user_tfidf, loaded_vectorizer.transform(loaded_documents))\n",
    "\n",
    "# Step 6: Get recommendations based on the user's input\n",
    "recommendations = get_recommendations(user_cosine_sim, loaded_titles)\n",
    "\n",
    "# Step 7: Display the recommendations\n",
    "print(\"Recommended Journals/Articles:\")\n",
    "for rec in recommendations:\n",
    "    print(rec)"
   ]
  }
 ],
 "metadata": {
  "kernelspec": {
   "display_name": "Python 3",
   "language": "python",
   "name": "python3"
  },
  "language_info": {
   "codemirror_mode": {
    "name": "ipython",
    "version": 3
   },
   "file_extension": ".py",
   "mimetype": "text/x-python",
   "name": "python",
   "nbconvert_exporter": "python",
   "pygments_lexer": "ipython3",
   "version": "3.12.5"
  }
 },
 "nbformat": 4,
 "nbformat_minor": 2
}
